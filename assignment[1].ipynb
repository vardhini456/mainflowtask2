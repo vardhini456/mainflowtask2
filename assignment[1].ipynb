{
  "cells": [
    {
      "cell_type": "code",
      "execution_count": 1,
      "id": "a8b5c953",
      "metadata": {
        "id": "a8b5c953"
      },
      "outputs": [],
      "source": [
        "import pandas as pd"
      ]
    },
    {
      "cell_type": "markdown",
      "id": "4509b514",
      "metadata": {
        "id": "4509b514"
      },
      "source": [
        "# Creating a DataFrame"
      ]
    },
    {
      "cell_type": "code",
      "execution_count": 2,
      "id": "f6c971f4",
      "metadata": {
        "colab": {
          "base_uri": "https://localhost:8080/"
        },
        "id": "f6c971f4",
        "outputId": "e18de212-f02c-4ebb-8f80-c15ed5f45aa9"
      },
      "outputs": [
        {
          "output_type": "stream",
          "name": "stdout",
          "text": [
            "DataFrame:\n",
            "    Name  Age      City\n",
            "0   John   25  New York\n",
            "1   Jane   30    London\n",
            "2   Mike   28     Paris\n",
            "3  Emily   32    Sydney\n"
          ]
        }
      ],
      "source": [
        "# Create a DataFrame\n",
        "data = {'Name': ['John', 'Jane', 'Mike', 'Emily'],\n",
        "        'Age': [25, 30, 28, 32],\n",
        "        'City': ['New York', 'London', 'Paris', 'Sydney']}\n",
        "df = pd.DataFrame(data)\n",
        "print(\"DataFrame:\")\n",
        "print(df)"
      ]
    },
    {
      "cell_type": "markdown",
      "id": "acd32dd0",
      "metadata": {
        "id": "acd32dd0"
      },
      "source": [
        "# Selecting columns"
      ]
    },
    {
      "cell_type": "code",
      "execution_count": 3,
      "id": "293926d1",
      "metadata": {
        "colab": {
          "base_uri": "https://localhost:8080/"
        },
        "id": "293926d1",
        "outputId": "0b6a3154-b53c-4c97-d949-ba086cecac36"
      },
      "outputs": [
        {
          "output_type": "stream",
          "name": "stdout",
          "text": [
            "\n",
            "Name Column:\n",
            "0     John\n",
            "1     Jane\n",
            "2     Mike\n",
            "3    Emily\n",
            "Name: Name, dtype: object\n"
          ]
        }
      ],
      "source": [
        "# Select a single column\n",
        "name_column = df['Name']\n",
        "print(\"\\nName Column:\")\n",
        "print(name_column)"
      ]
    },
    {
      "cell_type": "code",
      "execution_count": 4,
      "id": "1186f4ac",
      "metadata": {
        "colab": {
          "base_uri": "https://localhost:8080/"
        },
        "id": "1186f4ac",
        "outputId": "77b700e7-3048-45de-a50c-51deaa0117a5"
      },
      "outputs": [
        {
          "output_type": "stream",
          "name": "stdout",
          "text": [
            "\n",
            "Name and Age Columns:\n",
            "    Name  Age\n",
            "0   John   25\n",
            "1   Jane   30\n",
            "2   Mike   28\n",
            "3  Emily   32\n"
          ]
        }
      ],
      "source": [
        "# Select multiple columns\n",
        "name_age_columns = df[['Name', 'Age']]\n",
        "print(\"\\nName and Age Columns:\")\n",
        "print(name_age_columns)"
      ]
    },
    {
      "cell_type": "markdown",
      "id": "52c2698c",
      "metadata": {
        "id": "52c2698c"
      },
      "source": [
        "# Filtering rows"
      ]
    },
    {
      "cell_type": "code",
      "execution_count": 5,
      "id": "e1d56ae9",
      "metadata": {
        "colab": {
          "base_uri": "https://localhost:8080/"
        },
        "id": "e1d56ae9",
        "outputId": "948ae45a-ba96-442b-dbc4-f33129881abb"
      },
      "outputs": [
        {
          "output_type": "stream",
          "name": "stdout",
          "text": [
            "\n",
            "Filtered DataFrame:\n",
            "    Name  Age    City\n",
            "1   Jane   30  London\n",
            "2   Mike   28   Paris\n",
            "3  Emily   32  Sydney\n"
          ]
        }
      ],
      "source": [
        "# Filter rows based on a condition\n",
        "filtered_df = df[df['Age'] > 25]\n",
        "print(\"\\nFiltered DataFrame:\")\n",
        "print(filtered_df)"
      ]
    },
    {
      "cell_type": "markdown",
      "id": "1f5c90a9",
      "metadata": {
        "id": "1f5c90a9"
      },
      "source": [
        "# Sorting DataFrame"
      ]
    },
    {
      "cell_type": "code",
      "execution_count": 6,
      "id": "db7b13c1",
      "metadata": {
        "colab": {
          "base_uri": "https://localhost:8080/"
        },
        "id": "db7b13c1",
        "outputId": "ffff889a-6ba4-47a0-aec1-7f1412fde903"
      },
      "outputs": [
        {
          "output_type": "stream",
          "name": "stdout",
          "text": [
            "\n",
            "Sorted DataFrame:\n",
            "    Name  Age      City\n",
            "0   John   25  New York\n",
            "2   Mike   28     Paris\n",
            "1   Jane   30    London\n",
            "3  Emily   32    Sydney\n"
          ]
        }
      ],
      "source": [
        "# Sort DataFrame by a column\n",
        "sorted_df = df.sort_values('Age')\n",
        "print(\"\\nSorted DataFrame:\")\n",
        "print(sorted_df)"
      ]
    },
    {
      "cell_type": "markdown",
      "id": "ce5f2131",
      "metadata": {
        "id": "ce5f2131"
      },
      "source": [
        "# Adding and removing columns\n"
      ]
    },
    {
      "cell_type": "code",
      "execution_count": 7,
      "id": "412d9bfa",
      "metadata": {
        "colab": {
          "base_uri": "https://localhost:8080/"
        },
        "id": "412d9bfa",
        "outputId": "a63e11cd-caf5-4060-a2c8-7f81510f29f4"
      },
      "outputs": [
        {
          "output_type": "stream",
          "name": "stdout",
          "text": [
            "\n",
            "DataFrame with new column:\n",
            "    Name  Age      City  Gender\n",
            "0   John   25  New York    Male\n",
            "1   Jane   30    London  Female\n",
            "2   Mike   28     Paris    Male\n",
            "3  Emily   32    Sydney  Female\n"
          ]
        }
      ],
      "source": [
        "# Add a new column\n",
        "df['Gender'] = ['Male', 'Female', 'Male', 'Female']\n",
        "print(\"\\nDataFrame with new column:\")\n",
        "print(df)"
      ]
    },
    {
      "cell_type": "code",
      "execution_count": 8,
      "id": "206b590b",
      "metadata": {
        "colab": {
          "base_uri": "https://localhost:8080/"
        },
        "id": "206b590b",
        "outputId": "749bc52b-b013-4c2c-85b8-59d1a4f1d48f"
      },
      "outputs": [
        {
          "output_type": "stream",
          "name": "stdout",
          "text": [
            "\n",
            "DataFrame with column removed:\n",
            "    Name  Age  Gender\n",
            "0   John   25    Male\n",
            "1   Jane   30  Female\n",
            "2   Mike   28    Male\n",
            "3  Emily   32  Female\n"
          ]
        }
      ],
      "source": [
        "# Remove a column\n",
        "df = df.drop('City', axis=1)\n",
        "print(\"\\nDataFrame with column removed:\")\n",
        "print(df)"
      ]
    },
    {
      "cell_type": "markdown",
      "id": "2d2481de",
      "metadata": {
        "id": "2d2481de"
      },
      "source": [
        "# Grouping and aggregation"
      ]
    },
    {
      "cell_type": "markdown",
      "id": "9924c6c9",
      "metadata": {
        "id": "9924c6c9"
      },
      "source": [
        "# Handling missing values"
      ]
    },
    {
      "cell_type": "code",
      "execution_count": 10,
      "id": "13423016",
      "metadata": {
        "colab": {
          "base_uri": "https://localhost:8080/"
        },
        "id": "13423016",
        "outputId": "53fa1be0-9910-48f3-be6b-2db5c43397d2"
      },
      "outputs": [
        {
          "output_type": "stream",
          "name": "stdout",
          "text": [
            "\n",
            "DataFrame with missing values:\n",
            "    Name   Age      City\n",
            "0   John  25.0  New York\n",
            "1   Jane   NaN    London\n",
            "2   Mike  28.0      None\n",
            "3  Emily  32.0    Sydney\n"
          ]
        }
      ],
      "source": [
        "# Create a DataFrame with missing values\n",
        "data = {'Name': ['John', 'Jane', 'Mike', 'Emily'],\n",
        "        'Age': [25, None, 28, 32],\n",
        "        'City': ['New York', 'London', None, 'Sydney']}\n",
        "df = pd.DataFrame(data)\n",
        "print(\"\\nDataFrame with missing values:\")\n",
        "print(df)"
      ]
    },
    {
      "cell_type": "code",
      "execution_count": 11,
      "id": "51ea7642",
      "metadata": {
        "colab": {
          "base_uri": "https://localhost:8080/"
        },
        "id": "51ea7642",
        "outputId": "8ba6a057-b5ec-4bbd-8fbc-5e05cf94d76c"
      },
      "outputs": [
        {
          "output_type": "stream",
          "name": "stdout",
          "text": [
            "\n",
            "Missing Values:\n",
            "Name    0\n",
            "Age     1\n",
            "City    1\n",
            "dtype: int64\n"
          ]
        }
      ],
      "source": [
        "# Check for missing values\n",
        "print(\"\\nMissing Values:\")\n",
        "print(df.isnull().sum())"
      ]
    },
    {
      "cell_type": "code",
      "execution_count": 12,
      "id": "4d1f43b5",
      "metadata": {
        "colab": {
          "base_uri": "https://localhost:8080/"
        },
        "id": "4d1f43b5",
        "outputId": "a6db2baa-916d-46ac-f66a-46c66833a613"
      },
      "outputs": [
        {
          "output_type": "stream",
          "name": "stdout",
          "text": [
            "\n",
            "DataFrame with filled missing values:\n",
            "    Name   Age      City\n",
            "0   John  25.0  New York\n",
            "1   Jane   0.0    London\n",
            "2   Mike  28.0         0\n",
            "3  Emily  32.0    Sydney\n"
          ]
        }
      ],
      "source": [
        "# Fill missing values with a specific value\n",
        "df_filled = df.fillna(0)\n",
        "print(\"\\nDataFrame with filled missing values:\")\n",
        "print(df_filled)"
      ]
    },
    {
      "cell_type": "markdown",
      "id": "b0b25bb7",
      "metadata": {
        "id": "b0b25bb7"
      },
      "source": [
        "# Merging DataFrames"
      ]
    },
    {
      "cell_type": "code",
      "execution_count": 13,
      "id": "6654d4fb",
      "metadata": {
        "id": "6654d4fb"
      },
      "outputs": [],
      "source": [
        "# Create two DataFrames\n",
        "data1 = {'Name': ['John', 'Jane', 'Mike', 'Emily'],\n",
        "         'Age': [25, 30, 28, 32]}\n",
        "data2 = {'Name': ['John', 'Jane', 'Mike', 'Emily'],\n",
        "         'City': ['New York', 'London', 'Paris', 'Sydney']}\n",
        "df1 = pd.DataFrame(data1)\n",
        "df2 = pd.DataFrame(data2)"
      ]
    },
    {
      "cell_type": "code",
      "execution_count": 14,
      "id": "71a33b58",
      "metadata": {
        "colab": {
          "base_uri": "https://localhost:8080/"
        },
        "id": "71a33b58",
        "outputId": "5d3ca279-24f3-48c7-b48b-533191494562"
      },
      "outputs": [
        {
          "output_type": "stream",
          "name": "stdout",
          "text": [
            "\n",
            "Merged DataFrame:\n",
            "    Name  Age      City\n",
            "0   John   25  New York\n",
            "1   Jane   30    London\n",
            "2   Mike   28     Paris\n",
            "3  Emily   32    Sydney\n"
          ]
        }
      ],
      "source": [
        "# Merge the DataFrames\n",
        "merged_df = pd.merge(df1, df2, on='Name')\n",
        "print(\"\\nMerged DataFrame:\")\n",
        "print(merged_df)"
      ]
    },
    {
      "cell_type": "markdown",
      "id": "eadd131d",
      "metadata": {
        "id": "eadd131d"
      },
      "source": [
        "# Pivot Tables\n"
      ]
    },
    {
      "cell_type": "code",
      "execution_count": 15,
      "id": "2c88a789",
      "metadata": {
        "id": "2c88a789"
      },
      "outputs": [],
      "source": [
        "# Create a DataFrame\n",
        "data = {'Name': ['John', 'Jane', 'Mike', 'Emily', 'John', 'Jane', 'Mike', 'Emily'],\n",
        "        'Subject': ['Math', 'Math', 'Math', 'Math', 'Science', 'Science', 'Science', 'Science'],\n",
        "        'Score': [85, 90, 92, 88, 78, 82, 80, 85]}\n",
        "df = pd.DataFrame(data)"
      ]
    },
    {
      "cell_type": "code",
      "execution_count": 16,
      "id": "b22290db",
      "metadata": {
        "colab": {
          "base_uri": "https://localhost:8080/"
        },
        "id": "b22290db",
        "outputId": "e7df1219-907a-452d-8e6c-69e2d0f6b693"
      },
      "outputs": [
        {
          "output_type": "stream",
          "name": "stdout",
          "text": [
            "\n",
            "Pivot Table:\n",
            "Subject  Math  Science\n",
            "Name                  \n",
            "Emily      88       85\n",
            "Jane       90       82\n",
            "John       85       78\n",
            "Mike       92       80\n"
          ]
        }
      ],
      "source": [
        "# Create a pivot table\n",
        "pivot_table = df.pivot_table(index='Name', columns='Subject', values='Score', aggfunc='mean')\n",
        "print(\"\\nPivot Table:\")\n",
        "print(pivot_table)"
      ]
    }
  ],
  "metadata": {
    "kernelspec": {
      "display_name": "Python 3 (ipykernel)",
      "language": "python",
      "name": "python3"
    },
    "language_info": {
      "codemirror_mode": {
        "name": "ipython",
        "version": 3
      },
      "file_extension": ".py",
      "mimetype": "text/x-python",
      "name": "python",
      "nbconvert_exporter": "python",
      "pygments_lexer": "ipython3",
      "version": "3.9.13"
    },
    "colab": {
      "provenance": []
    }
  },
  "nbformat": 4,
  "nbformat_minor": 5
}